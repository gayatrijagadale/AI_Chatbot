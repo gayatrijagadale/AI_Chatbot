{
 "cells": [
  {
   "cell_type": "code",
   "execution_count": 1,
   "id": "4f7d2e09-3a1a-4051-acb2-c5243a9e2727",
   "metadata": {},
   "outputs": [
    {
     "name": "stdout",
     "output_type": "stream",
     "text": [
      "Defaulting to user installation because normal site-packages is not writeable\n",
      "Requirement already satisfied: autogen in c:\\users\\dell\\appdata\\roaming\\python\\python312\\site-packages (0.8.2)\n",
      "Requirement already satisfied: pyautogen==0.8.2 in c:\\users\\dell\\appdata\\roaming\\python\\python312\\site-packages (from autogen) (0.8.2)\n",
      "Requirement already satisfied: anyio<5.0.0,>=3.0.0 in c:\\users\\dell\\appdata\\roaming\\python\\python312\\site-packages (from pyautogen==0.8.2->autogen) (3.7.1)\n",
      "Requirement already satisfied: asyncer==0.0.8 in c:\\users\\dell\\appdata\\roaming\\python\\python312\\site-packages (from pyautogen==0.8.2->autogen) (0.0.8)\n",
      "Requirement already satisfied: diskcache in c:\\users\\dell\\appdata\\roaming\\python\\python312\\site-packages (from pyautogen==0.8.2->autogen) (5.6.3)\n",
      "Requirement already satisfied: docker in c:\\users\\dell\\appdata\\roaming\\python\\python312\\site-packages (from pyautogen==0.8.2->autogen) (7.1.0)\n",
      "Requirement already satisfied: httpx<1,>=0.28.1 in c:\\users\\dell\\appdata\\roaming\\python\\python312\\site-packages (from pyautogen==0.8.2->autogen) (0.28.1)\n",
      "Requirement already satisfied: packaging in c:\\programdata\\anaconda3\\lib\\site-packages (from pyautogen==0.8.2->autogen) (23.2)\n",
      "Requirement already satisfied: pydantic<3,>=2.6.1 in c:\\users\\dell\\appdata\\roaming\\python\\python312\\site-packages (from pyautogen==0.8.2->autogen) (2.10.6)\n",
      "Requirement already satisfied: python-dotenv in c:\\programdata\\anaconda3\\lib\\site-packages (from pyautogen==0.8.2->autogen) (0.21.0)\n",
      "Requirement already satisfied: termcolor in c:\\users\\dell\\appdata\\roaming\\python\\python312\\site-packages (from pyautogen==0.8.2->autogen) (2.5.0)\n",
      "Requirement already satisfied: tiktoken in c:\\users\\dell\\appdata\\roaming\\python\\python312\\site-packages (from pyautogen==0.8.2->autogen) (0.9.0)\n",
      "Requirement already satisfied: idna>=2.8 in c:\\programdata\\anaconda3\\lib\\site-packages (from anyio<5.0.0,>=3.0.0->pyautogen==0.8.2->autogen) (3.7)\n",
      "Requirement already satisfied: sniffio>=1.1 in c:\\programdata\\anaconda3\\lib\\site-packages (from anyio<5.0.0,>=3.0.0->pyautogen==0.8.2->autogen) (1.3.0)\n",
      "Requirement already satisfied: certifi in c:\\programdata\\anaconda3\\lib\\site-packages (from httpx<1,>=0.28.1->pyautogen==0.8.2->autogen) (2024.7.4)\n",
      "Requirement already satisfied: httpcore==1.* in c:\\programdata\\anaconda3\\lib\\site-packages (from httpx<1,>=0.28.1->pyautogen==0.8.2->autogen) (1.0.2)\n",
      "Requirement already satisfied: h11<0.15,>=0.13 in c:\\programdata\\anaconda3\\lib\\site-packages (from httpcore==1.*->httpx<1,>=0.28.1->pyautogen==0.8.2->autogen) (0.14.0)\n",
      "Requirement already satisfied: annotated-types>=0.6.0 in c:\\programdata\\anaconda3\\lib\\site-packages (from pydantic<3,>=2.6.1->pyautogen==0.8.2->autogen) (0.6.0)\n",
      "Requirement already satisfied: pydantic-core==2.27.2 in c:\\users\\dell\\appdata\\roaming\\python\\python312\\site-packages (from pydantic<3,>=2.6.1->pyautogen==0.8.2->autogen) (2.27.2)\n",
      "Requirement already satisfied: typing-extensions>=4.12.2 in c:\\users\\dell\\appdata\\roaming\\python\\python312\\site-packages (from pydantic<3,>=2.6.1->pyautogen==0.8.2->autogen) (4.12.2)\n",
      "Requirement already satisfied: pywin32>=304 in c:\\programdata\\anaconda3\\lib\\site-packages (from docker->pyautogen==0.8.2->autogen) (305.1)\n",
      "Requirement already satisfied: requests>=2.26.0 in c:\\programdata\\anaconda3\\lib\\site-packages (from docker->pyautogen==0.8.2->autogen) (2.32.2)\n",
      "Requirement already satisfied: urllib3>=1.26.0 in c:\\programdata\\anaconda3\\lib\\site-packages (from docker->pyautogen==0.8.2->autogen) (2.2.2)\n",
      "Requirement already satisfied: regex>=2022.1.18 in c:\\programdata\\anaconda3\\lib\\site-packages (from tiktoken->pyautogen==0.8.2->autogen) (2023.10.3)\n",
      "Requirement already satisfied: charset-normalizer<4,>=2 in c:\\programdata\\anaconda3\\lib\\site-packages (from requests>=2.26.0->docker->pyautogen==0.8.2->autogen) (2.0.4)\n"
     ]
    }
   ],
   "source": [
    "! pip install autogen"
   ]
  },
  {
   "cell_type": "code",
   "execution_count": 2,
   "id": "75818c0c-5f86-497e-893b-b8e6c75e770f",
   "metadata": {},
   "outputs": [
    {
     "name": "stdout",
     "output_type": "stream",
     "text": [
      "Defaulting to user installation because normal site-packages is not writeable\n",
      "Requirement already satisfied: autogen in c:\\users\\dell\\appdata\\roaming\\python\\python312\\site-packages (0.8.2)\n",
      "Requirement already satisfied: yfinance in c:\\users\\dell\\appdata\\roaming\\python\\python312\\site-packages (0.2.54)\n",
      "Requirement already satisfied: matplotlib in c:\\programdata\\anaconda3\\lib\\site-packages (3.8.4)\n",
      "Requirement already satisfied: pyautogen==0.8.2 in c:\\users\\dell\\appdata\\roaming\\python\\python312\\site-packages (from autogen) (0.8.2)\n",
      "Requirement already satisfied: anyio<5.0.0,>=3.0.0 in c:\\users\\dell\\appdata\\roaming\\python\\python312\\site-packages (from pyautogen==0.8.2->autogen) (3.7.1)\n",
      "Requirement already satisfied: asyncer==0.0.8 in c:\\users\\dell\\appdata\\roaming\\python\\python312\\site-packages (from pyautogen==0.8.2->autogen) (0.0.8)\n",
      "Requirement already satisfied: diskcache in c:\\users\\dell\\appdata\\roaming\\python\\python312\\site-packages (from pyautogen==0.8.2->autogen) (5.6.3)\n",
      "Requirement already satisfied: docker in c:\\users\\dell\\appdata\\roaming\\python\\python312\\site-packages (from pyautogen==0.8.2->autogen) (7.1.0)\n",
      "Requirement already satisfied: httpx<1,>=0.28.1 in c:\\users\\dell\\appdata\\roaming\\python\\python312\\site-packages (from pyautogen==0.8.2->autogen) (0.28.1)\n",
      "Requirement already satisfied: packaging in c:\\programdata\\anaconda3\\lib\\site-packages (from pyautogen==0.8.2->autogen) (23.2)\n",
      "Requirement already satisfied: pydantic<3,>=2.6.1 in c:\\users\\dell\\appdata\\roaming\\python\\python312\\site-packages (from pyautogen==0.8.2->autogen) (2.10.6)\n",
      "Requirement already satisfied: python-dotenv in c:\\programdata\\anaconda3\\lib\\site-packages (from pyautogen==0.8.2->autogen) (0.21.0)\n",
      "Requirement already satisfied: termcolor in c:\\users\\dell\\appdata\\roaming\\python\\python312\\site-packages (from pyautogen==0.8.2->autogen) (2.5.0)\n",
      "Requirement already satisfied: tiktoken in c:\\users\\dell\\appdata\\roaming\\python\\python312\\site-packages (from pyautogen==0.8.2->autogen) (0.9.0)\n",
      "Requirement already satisfied: pandas>=1.3.0 in c:\\programdata\\anaconda3\\lib\\site-packages (from yfinance) (2.2.2)\n",
      "Requirement already satisfied: numpy>=1.16.5 in c:\\programdata\\anaconda3\\lib\\site-packages (from yfinance) (1.26.4)\n",
      "Requirement already satisfied: requests>=2.31 in c:\\programdata\\anaconda3\\lib\\site-packages (from yfinance) (2.32.2)\n",
      "Requirement already satisfied: multitasking>=0.0.7 in c:\\users\\dell\\appdata\\roaming\\python\\python312\\site-packages (from yfinance) (0.0.11)\n",
      "Requirement already satisfied: platformdirs>=2.0.0 in c:\\programdata\\anaconda3\\lib\\site-packages (from yfinance) (3.10.0)\n",
      "Requirement already satisfied: pytz>=2022.5 in c:\\programdata\\anaconda3\\lib\\site-packages (from yfinance) (2024.1)\n",
      "Requirement already satisfied: frozendict>=2.3.4 in c:\\programdata\\anaconda3\\lib\\site-packages (from yfinance) (2.4.2)\n",
      "Requirement already satisfied: peewee>=3.16.2 in c:\\users\\dell\\appdata\\roaming\\python\\python312\\site-packages (from yfinance) (3.17.9)\n",
      "Requirement already satisfied: beautifulsoup4>=4.11.1 in c:\\programdata\\anaconda3\\lib\\site-packages (from yfinance) (4.12.3)\n",
      "Requirement already satisfied: contourpy>=1.0.1 in c:\\programdata\\anaconda3\\lib\\site-packages (from matplotlib) (1.2.0)\n",
      "Requirement already satisfied: cycler>=0.10 in c:\\programdata\\anaconda3\\lib\\site-packages (from matplotlib) (0.11.0)\n",
      "Requirement already satisfied: fonttools>=4.22.0 in c:\\programdata\\anaconda3\\lib\\site-packages (from matplotlib) (4.51.0)\n",
      "Requirement already satisfied: kiwisolver>=1.3.1 in c:\\programdata\\anaconda3\\lib\\site-packages (from matplotlib) (1.4.4)\n",
      "Requirement already satisfied: pillow>=8 in c:\\programdata\\anaconda3\\lib\\site-packages (from matplotlib) (10.3.0)\n",
      "Requirement already satisfied: pyparsing>=2.3.1 in c:\\programdata\\anaconda3\\lib\\site-packages (from matplotlib) (3.0.9)\n",
      "Requirement already satisfied: python-dateutil>=2.7 in c:\\programdata\\anaconda3\\lib\\site-packages (from matplotlib) (2.9.0.post0)\n",
      "Requirement already satisfied: soupsieve>1.2 in c:\\programdata\\anaconda3\\lib\\site-packages (from beautifulsoup4>=4.11.1->yfinance) (2.5)\n",
      "Requirement already satisfied: tzdata>=2022.7 in c:\\programdata\\anaconda3\\lib\\site-packages (from pandas>=1.3.0->yfinance) (2023.3)\n",
      "Requirement already satisfied: six>=1.5 in c:\\programdata\\anaconda3\\lib\\site-packages (from python-dateutil>=2.7->matplotlib) (1.16.0)\n",
      "Requirement already satisfied: charset-normalizer<4,>=2 in c:\\programdata\\anaconda3\\lib\\site-packages (from requests>=2.31->yfinance) (2.0.4)\n",
      "Requirement already satisfied: idna<4,>=2.5 in c:\\programdata\\anaconda3\\lib\\site-packages (from requests>=2.31->yfinance) (3.7)\n",
      "Requirement already satisfied: urllib3<3,>=1.21.1 in c:\\programdata\\anaconda3\\lib\\site-packages (from requests>=2.31->yfinance) (2.2.2)\n",
      "Requirement already satisfied: certifi>=2017.4.17 in c:\\programdata\\anaconda3\\lib\\site-packages (from requests>=2.31->yfinance) (2024.7.4)\n",
      "Requirement already satisfied: sniffio>=1.1 in c:\\programdata\\anaconda3\\lib\\site-packages (from anyio<5.0.0,>=3.0.0->pyautogen==0.8.2->autogen) (1.3.0)\n",
      "Requirement already satisfied: httpcore==1.* in c:\\programdata\\anaconda3\\lib\\site-packages (from httpx<1,>=0.28.1->pyautogen==0.8.2->autogen) (1.0.2)\n",
      "Requirement already satisfied: h11<0.15,>=0.13 in c:\\programdata\\anaconda3\\lib\\site-packages (from httpcore==1.*->httpx<1,>=0.28.1->pyautogen==0.8.2->autogen) (0.14.0)\n",
      "Requirement already satisfied: annotated-types>=0.6.0 in c:\\programdata\\anaconda3\\lib\\site-packages (from pydantic<3,>=2.6.1->pyautogen==0.8.2->autogen) (0.6.0)\n",
      "Requirement already satisfied: pydantic-core==2.27.2 in c:\\users\\dell\\appdata\\roaming\\python\\python312\\site-packages (from pydantic<3,>=2.6.1->pyautogen==0.8.2->autogen) (2.27.2)\n",
      "Requirement already satisfied: typing-extensions>=4.12.2 in c:\\users\\dell\\appdata\\roaming\\python\\python312\\site-packages (from pydantic<3,>=2.6.1->pyautogen==0.8.2->autogen) (4.12.2)\n",
      "Requirement already satisfied: pywin32>=304 in c:\\programdata\\anaconda3\\lib\\site-packages (from docker->pyautogen==0.8.2->autogen) (305.1)\n",
      "Requirement already satisfied: regex>=2022.1.18 in c:\\programdata\\anaconda3\\lib\\site-packages (from tiktoken->pyautogen==0.8.2->autogen) (2023.10.3)\n"
     ]
    }
   ],
   "source": [
    "! python -m pip install autogen yfinance matplotlib\n"
   ]
  },
  {
   "cell_type": "code",
   "execution_count": 3,
   "id": "0e751f90-7880-45f4-b973-7ff3440b8476",
   "metadata": {},
   "outputs": [
    {
     "name": "stdout",
     "output_type": "stream",
     "text": [
      "Defaulting to user installation because normal site-packages is not writeable\n",
      "Requirement already satisfied: paramiko in c:\\users\\dell\\appdata\\roaming\\python\\python312\\site-packages (3.5.1)\n",
      "Requirement already satisfied: cryptography in c:\\users\\dell\\appdata\\roaming\\python\\python312\\site-packages (44.0.2)\n",
      "Requirement already satisfied: bcrypt>=3.2 in c:\\programdata\\anaconda3\\lib\\site-packages (from paramiko) (3.2.0)\n",
      "Requirement already satisfied: pynacl>=1.5 in c:\\programdata\\anaconda3\\lib\\site-packages (from paramiko) (1.5.0)\n",
      "Requirement already satisfied: cffi>=1.12 in c:\\programdata\\anaconda3\\lib\\site-packages (from cryptography) (1.16.0)\n",
      "Requirement already satisfied: six>=1.4.1 in c:\\programdata\\anaconda3\\lib\\site-packages (from bcrypt>=3.2->paramiko) (1.16.0)\n",
      "Requirement already satisfied: pycparser in c:\\programdata\\anaconda3\\lib\\site-packages (from cffi>=1.12->cryptography) (2.21)\n"
     ]
    }
   ],
   "source": [
    "! pip install --upgrade paramiko cryptography"
   ]
  },
  {
   "cell_type": "code",
   "execution_count": 4,
   "id": "1f2c89f5-f68a-4e4b-b8d2-076f38fe2ca7",
   "metadata": {},
   "outputs": [
    {
     "name": "stdout",
     "output_type": "stream",
     "text": [
      "Defaulting to user installation because normal site-packages is not writeable\n",
      "Requirement already satisfied: pyopenssl in c:\\users\\dell\\appdata\\roaming\\python\\python312\\site-packages (25.0.0)\n",
      "Requirement already satisfied: cryptography<45,>=41.0.5 in c:\\users\\dell\\appdata\\roaming\\python\\python312\\site-packages (from pyopenssl) (44.0.2)\n",
      "Requirement already satisfied: typing-extensions>=4.9 in c:\\users\\dell\\appdata\\roaming\\python\\python312\\site-packages (from pyopenssl) (4.12.2)\n",
      "Requirement already satisfied: cffi>=1.12 in c:\\programdata\\anaconda3\\lib\\site-packages (from cryptography<45,>=41.0.5->pyopenssl) (1.16.0)\n",
      "Requirement already satisfied: pycparser in c:\\programdata\\anaconda3\\lib\\site-packages (from cffi>=1.12->cryptography<45,>=41.0.5->pyopenssl) (2.21)\n"
     ]
    }
   ],
   "source": [
    "! pip install --upgrade pyopenssl"
   ]
  },
  {
   "cell_type": "code",
   "execution_count": 5,
   "id": "bfffa121-cfb7-4021-80a2-d403e377dd5e",
   "metadata": {},
   "outputs": [
    {
     "name": "stdout",
     "output_type": "stream",
     "text": [
      "Found existing installation: openai 1.66.3\n",
      "Uninstalling openai-1.66.3:\n",
      "  Successfully uninstalled openai-1.66.3\n"
     ]
    }
   ],
   "source": [
    "! pip uninstall openai -y"
   ]
  },
  {
   "cell_type": "code",
   "execution_count": 6,
   "id": "dda362f7-b29f-4df4-a80d-8915fe2e3d59",
   "metadata": {},
   "outputs": [
    {
     "name": "stdout",
     "output_type": "stream",
     "text": [
      "Defaulting to user installation because normal site-packages is not writeable\n",
      "Collecting openai==1.3.5\n",
      "  Using cached openai-1.3.5-py3-none-any.whl.metadata (16 kB)\n",
      "Requirement already satisfied: anyio<4,>=3.5.0 in c:\\users\\dell\\appdata\\roaming\\python\\python312\\site-packages (from openai==1.3.5) (3.7.1)\n",
      "Requirement already satisfied: distro<2,>=1.7.0 in c:\\programdata\\anaconda3\\lib\\site-packages (from openai==1.3.5) (1.9.0)\n",
      "Requirement already satisfied: httpx<1,>=0.23.0 in c:\\users\\dell\\appdata\\roaming\\python\\python312\\site-packages (from openai==1.3.5) (0.28.1)\n",
      "Requirement already satisfied: pydantic<3,>=1.9.0 in c:\\users\\dell\\appdata\\roaming\\python\\python312\\site-packages (from openai==1.3.5) (2.10.6)\n",
      "Requirement already satisfied: tqdm>4 in c:\\programdata\\anaconda3\\lib\\site-packages (from openai==1.3.5) (4.66.4)\n",
      "Requirement already satisfied: typing-extensions<5,>=4.5 in c:\\users\\dell\\appdata\\roaming\\python\\python312\\site-packages (from openai==1.3.5) (4.12.2)\n",
      "Requirement already satisfied: idna>=2.8 in c:\\programdata\\anaconda3\\lib\\site-packages (from anyio<4,>=3.5.0->openai==1.3.5) (3.7)\n",
      "Requirement already satisfied: sniffio>=1.1 in c:\\programdata\\anaconda3\\lib\\site-packages (from anyio<4,>=3.5.0->openai==1.3.5) (1.3.0)\n",
      "Requirement already satisfied: certifi in c:\\programdata\\anaconda3\\lib\\site-packages (from httpx<1,>=0.23.0->openai==1.3.5) (2024.7.4)\n",
      "Requirement already satisfied: httpcore==1.* in c:\\programdata\\anaconda3\\lib\\site-packages (from httpx<1,>=0.23.0->openai==1.3.5) (1.0.2)\n",
      "Requirement already satisfied: h11<0.15,>=0.13 in c:\\programdata\\anaconda3\\lib\\site-packages (from httpcore==1.*->httpx<1,>=0.23.0->openai==1.3.5) (0.14.0)\n",
      "Requirement already satisfied: annotated-types>=0.6.0 in c:\\programdata\\anaconda3\\lib\\site-packages (from pydantic<3,>=1.9.0->openai==1.3.5) (0.6.0)\n",
      "Requirement already satisfied: pydantic-core==2.27.2 in c:\\users\\dell\\appdata\\roaming\\python\\python312\\site-packages (from pydantic<3,>=1.9.0->openai==1.3.5) (2.27.2)\n",
      "Requirement already satisfied: colorama in c:\\programdata\\anaconda3\\lib\\site-packages (from tqdm>4->openai==1.3.5) (0.4.6)\n",
      "Using cached openai-1.3.5-py3-none-any.whl (220 kB)\n",
      "Installing collected packages: openai\n",
      "Successfully installed openai-1.3.5\n"
     ]
    }
   ],
   "source": [
    "! pip install openai==1.3.5\n"
   ]
  },
  {
   "cell_type": "code",
   "execution_count": 7,
   "id": "5c3efed5-9163-457e-90cc-ff67d3e92620",
   "metadata": {},
   "outputs": [
    {
     "name": "stdout",
     "output_type": "stream",
     "text": [
      "Found existing installation: openai 1.3.5\n",
      "Uninstalling openai-1.3.5:\n",
      "  Successfully uninstalled openai-1.3.5\n",
      "Found existing installation: autogen 0.8.2\n",
      "Uninstalling autogen-0.8.2:\n",
      "  Successfully uninstalled autogen-0.8.2\n"
     ]
    }
   ],
   "source": [
    "!pip uninstall openai autogen -y"
   ]
  },
  {
   "cell_type": "code",
   "execution_count": 8,
   "id": "cb525539-40e8-45e0-98d9-a3b7b86d7923",
   "metadata": {},
   "outputs": [
    {
     "name": "stdout",
     "output_type": "stream",
     "text": [
      "Defaulting to user installation because normal site-packages is not writeable\n",
      "Collecting openai==1.3.7\n",
      "  Using cached openai-1.3.7-py3-none-any.whl.metadata (17 kB)\n",
      "Collecting autogen==0.8.2\n",
      "  Using cached autogen-0.8.2-py3-none-any.whl.metadata (19 kB)\n",
      "Requirement already satisfied: anyio<4,>=3.5.0 in c:\\users\\dell\\appdata\\roaming\\python\\python312\\site-packages (from openai==1.3.7) (3.7.1)\n",
      "Requirement already satisfied: distro<2,>=1.7.0 in c:\\programdata\\anaconda3\\lib\\site-packages (from openai==1.3.7) (1.9.0)\n",
      "Requirement already satisfied: httpx<1,>=0.23.0 in c:\\users\\dell\\appdata\\roaming\\python\\python312\\site-packages (from openai==1.3.7) (0.28.1)\n",
      "Requirement already satisfied: pydantic<3,>=1.9.0 in c:\\users\\dell\\appdata\\roaming\\python\\python312\\site-packages (from openai==1.3.7) (2.10.6)\n",
      "Requirement already satisfied: sniffio in c:\\programdata\\anaconda3\\lib\\site-packages (from openai==1.3.7) (1.3.0)\n",
      "Requirement already satisfied: tqdm>4 in c:\\programdata\\anaconda3\\lib\\site-packages (from openai==1.3.7) (4.66.4)\n",
      "Requirement already satisfied: typing-extensions<5,>=4.5 in c:\\users\\dell\\appdata\\roaming\\python\\python312\\site-packages (from openai==1.3.7) (4.12.2)\n",
      "Requirement already satisfied: pyautogen==0.8.2 in c:\\users\\dell\\appdata\\roaming\\python\\python312\\site-packages (from autogen==0.8.2) (0.8.2)\n",
      "Requirement already satisfied: asyncer==0.0.8 in c:\\users\\dell\\appdata\\roaming\\python\\python312\\site-packages (from pyautogen==0.8.2->autogen==0.8.2) (0.0.8)\n",
      "Requirement already satisfied: diskcache in c:\\users\\dell\\appdata\\roaming\\python\\python312\\site-packages (from pyautogen==0.8.2->autogen==0.8.2) (5.6.3)\n",
      "Requirement already satisfied: docker in c:\\users\\dell\\appdata\\roaming\\python\\python312\\site-packages (from pyautogen==0.8.2->autogen==0.8.2) (7.1.0)\n",
      "Requirement already satisfied: packaging in c:\\programdata\\anaconda3\\lib\\site-packages (from pyautogen==0.8.2->autogen==0.8.2) (23.2)\n",
      "Requirement already satisfied: python-dotenv in c:\\programdata\\anaconda3\\lib\\site-packages (from pyautogen==0.8.2->autogen==0.8.2) (0.21.0)\n",
      "Requirement already satisfied: termcolor in c:\\users\\dell\\appdata\\roaming\\python\\python312\\site-packages (from pyautogen==0.8.2->autogen==0.8.2) (2.5.0)\n",
      "Requirement already satisfied: tiktoken in c:\\users\\dell\\appdata\\roaming\\python\\python312\\site-packages (from pyautogen==0.8.2->autogen==0.8.2) (0.9.0)\n",
      "Requirement already satisfied: idna>=2.8 in c:\\programdata\\anaconda3\\lib\\site-packages (from anyio<4,>=3.5.0->openai==1.3.7) (3.7)\n",
      "Requirement already satisfied: certifi in c:\\programdata\\anaconda3\\lib\\site-packages (from httpx<1,>=0.23.0->openai==1.3.7) (2024.7.4)\n",
      "Requirement already satisfied: httpcore==1.* in c:\\programdata\\anaconda3\\lib\\site-packages (from httpx<1,>=0.23.0->openai==1.3.7) (1.0.2)\n",
      "Requirement already satisfied: h11<0.15,>=0.13 in c:\\programdata\\anaconda3\\lib\\site-packages (from httpcore==1.*->httpx<1,>=0.23.0->openai==1.3.7) (0.14.0)\n",
      "Requirement already satisfied: annotated-types>=0.6.0 in c:\\programdata\\anaconda3\\lib\\site-packages (from pydantic<3,>=1.9.0->openai==1.3.7) (0.6.0)\n",
      "Requirement already satisfied: pydantic-core==2.27.2 in c:\\users\\dell\\appdata\\roaming\\python\\python312\\site-packages (from pydantic<3,>=1.9.0->openai==1.3.7) (2.27.2)\n",
      "Requirement already satisfied: colorama in c:\\programdata\\anaconda3\\lib\\site-packages (from tqdm>4->openai==1.3.7) (0.4.6)\n",
      "Requirement already satisfied: pywin32>=304 in c:\\programdata\\anaconda3\\lib\\site-packages (from docker->pyautogen==0.8.2->autogen==0.8.2) (305.1)\n",
      "Requirement already satisfied: requests>=2.26.0 in c:\\programdata\\anaconda3\\lib\\site-packages (from docker->pyautogen==0.8.2->autogen==0.8.2) (2.32.2)\n",
      "Requirement already satisfied: urllib3>=1.26.0 in c:\\programdata\\anaconda3\\lib\\site-packages (from docker->pyautogen==0.8.2->autogen==0.8.2) (2.2.2)\n",
      "Requirement already satisfied: regex>=2022.1.18 in c:\\programdata\\anaconda3\\lib\\site-packages (from tiktoken->pyautogen==0.8.2->autogen==0.8.2) (2023.10.3)\n",
      "Requirement already satisfied: charset-normalizer<4,>=2 in c:\\programdata\\anaconda3\\lib\\site-packages (from requests>=2.26.0->docker->pyautogen==0.8.2->autogen==0.8.2) (2.0.4)\n",
      "Using cached openai-1.3.7-py3-none-any.whl (221 kB)\n",
      "Using cached autogen-0.8.2-py3-none-any.whl (12 kB)\n",
      "Installing collected packages: openai, autogen\n",
      "Successfully installed autogen-0.8.2 openai-1.3.7\n"
     ]
    }
   ],
   "source": [
    "!pip install openai==1.3.7 autogen==0.8.2"
   ]
  },
  {
   "cell_type": "code",
   "execution_count": 9,
   "id": "70ef9afb-839f-4cde-a615-e4fb884defb1",
   "metadata": {},
   "outputs": [
    {
     "name": "stdout",
     "output_type": "stream",
     "text": [
      "Name: openai\n",
      "Version: 1.3.7\n",
      "Summary: The official Python library for the openai API\n",
      "Home-page: \n",
      "Author: \n",
      "Author-email: OpenAI <support@openai.com>\n",
      "License: \n",
      "Location: C:\\Users\\DELL\\AppData\\Roaming\\Python\\Python312\\site-packages\n",
      "Requires: anyio, distro, httpx, pydantic, sniffio, tqdm, typing-extensions\n",
      "Required-by: \n",
      "---\n",
      "Name: autogen\n",
      "Version: 0.8.2\n",
      "Summary: Alias package for pyautogen\n",
      "Home-page: https://github.com/ag2ai/ag2\n",
      "Author: Chi Wang & Qingyun Wu\n",
      "Author-email: support@ag2.ai\n",
      "License: Apache Software License 2.0\n",
      "Location: C:\\Users\\DELL\\AppData\\Roaming\\Python\\Python312\\site-packages\n",
      "Requires: pyautogen\n",
      "Required-by: \n"
     ]
    }
   ],
   "source": [
    "! pip show openai autogen"
   ]
  },
  {
   "cell_type": "code",
   "execution_count": 10,
   "id": "1eccf367-9c2a-450d-8a45-0c9638038dad",
   "metadata": {},
   "outputs": [
    {
     "name": "stdout",
     "output_type": "stream",
     "text": [
      "Defaulting to user installation because normal site-packages is not writeable\n",
      "Requirement already satisfied: openai in c:\\users\\dell\\appdata\\roaming\\python\\python312\\site-packages (1.3.7)\n",
      "Collecting openai\n",
      "  Using cached openai-1.66.3-py3-none-any.whl.metadata (25 kB)\n",
      "Requirement already satisfied: autogen in c:\\users\\dell\\appdata\\roaming\\python\\python312\\site-packages (0.8.2)\n",
      "Requirement already satisfied: anyio<5,>=3.5.0 in c:\\users\\dell\\appdata\\roaming\\python\\python312\\site-packages (from openai) (3.7.1)\n",
      "Requirement already satisfied: distro<2,>=1.7.0 in c:\\programdata\\anaconda3\\lib\\site-packages (from openai) (1.9.0)\n",
      "Requirement already satisfied: httpx<1,>=0.23.0 in c:\\users\\dell\\appdata\\roaming\\python\\python312\\site-packages (from openai) (0.28.1)\n",
      "Requirement already satisfied: jiter<1,>=0.4.0 in c:\\users\\dell\\appdata\\roaming\\python\\python312\\site-packages (from openai) (0.8.2)\n",
      "Requirement already satisfied: pydantic<3,>=1.9.0 in c:\\users\\dell\\appdata\\roaming\\python\\python312\\site-packages (from openai) (2.10.6)\n",
      "Requirement already satisfied: sniffio in c:\\programdata\\anaconda3\\lib\\site-packages (from openai) (1.3.0)\n",
      "Requirement already satisfied: tqdm>4 in c:\\programdata\\anaconda3\\lib\\site-packages (from openai) (4.66.4)\n",
      "Requirement already satisfied: typing-extensions<5,>=4.11 in c:\\users\\dell\\appdata\\roaming\\python\\python312\\site-packages (from openai) (4.12.2)\n",
      "Requirement already satisfied: pyautogen==0.8.2 in c:\\users\\dell\\appdata\\roaming\\python\\python312\\site-packages (from autogen) (0.8.2)\n",
      "Requirement already satisfied: asyncer==0.0.8 in c:\\users\\dell\\appdata\\roaming\\python\\python312\\site-packages (from pyautogen==0.8.2->autogen) (0.0.8)\n",
      "Requirement already satisfied: diskcache in c:\\users\\dell\\appdata\\roaming\\python\\python312\\site-packages (from pyautogen==0.8.2->autogen) (5.6.3)\n",
      "Requirement already satisfied: docker in c:\\users\\dell\\appdata\\roaming\\python\\python312\\site-packages (from pyautogen==0.8.2->autogen) (7.1.0)\n",
      "Requirement already satisfied: packaging in c:\\programdata\\anaconda3\\lib\\site-packages (from pyautogen==0.8.2->autogen) (23.2)\n",
      "Requirement already satisfied: python-dotenv in c:\\programdata\\anaconda3\\lib\\site-packages (from pyautogen==0.8.2->autogen) (0.21.0)\n",
      "Requirement already satisfied: termcolor in c:\\users\\dell\\appdata\\roaming\\python\\python312\\site-packages (from pyautogen==0.8.2->autogen) (2.5.0)\n",
      "Requirement already satisfied: tiktoken in c:\\users\\dell\\appdata\\roaming\\python\\python312\\site-packages (from pyautogen==0.8.2->autogen) (0.9.0)\n",
      "Requirement already satisfied: idna>=2.8 in c:\\programdata\\anaconda3\\lib\\site-packages (from anyio<5,>=3.5.0->openai) (3.7)\n",
      "Requirement already satisfied: certifi in c:\\programdata\\anaconda3\\lib\\site-packages (from httpx<1,>=0.23.0->openai) (2024.7.4)\n",
      "Requirement already satisfied: httpcore==1.* in c:\\programdata\\anaconda3\\lib\\site-packages (from httpx<1,>=0.23.0->openai) (1.0.2)\n",
      "Requirement already satisfied: h11<0.15,>=0.13 in c:\\programdata\\anaconda3\\lib\\site-packages (from httpcore==1.*->httpx<1,>=0.23.0->openai) (0.14.0)\n",
      "Requirement already satisfied: annotated-types>=0.6.0 in c:\\programdata\\anaconda3\\lib\\site-packages (from pydantic<3,>=1.9.0->openai) (0.6.0)\n",
      "Requirement already satisfied: pydantic-core==2.27.2 in c:\\users\\dell\\appdata\\roaming\\python\\python312\\site-packages (from pydantic<3,>=1.9.0->openai) (2.27.2)\n",
      "Requirement already satisfied: colorama in c:\\programdata\\anaconda3\\lib\\site-packages (from tqdm>4->openai) (0.4.6)\n",
      "Requirement already satisfied: pywin32>=304 in c:\\programdata\\anaconda3\\lib\\site-packages (from docker->pyautogen==0.8.2->autogen) (305.1)\n",
      "Requirement already satisfied: requests>=2.26.0 in c:\\programdata\\anaconda3\\lib\\site-packages (from docker->pyautogen==0.8.2->autogen) (2.32.2)\n",
      "Requirement already satisfied: urllib3>=1.26.0 in c:\\programdata\\anaconda3\\lib\\site-packages (from docker->pyautogen==0.8.2->autogen) (2.2.2)\n",
      "Requirement already satisfied: regex>=2022.1.18 in c:\\programdata\\anaconda3\\lib\\site-packages (from tiktoken->pyautogen==0.8.2->autogen) (2023.10.3)\n",
      "Requirement already satisfied: charset-normalizer<4,>=2 in c:\\programdata\\anaconda3\\lib\\site-packages (from requests>=2.26.0->docker->pyautogen==0.8.2->autogen) (2.0.4)\n",
      "Using cached openai-1.66.3-py3-none-any.whl (567 kB)\n",
      "Installing collected packages: openai\n",
      "  Attempting uninstall: openai\n",
      "    Found existing installation: openai 1.3.7\n",
      "    Uninstalling openai-1.3.7:\n",
      "      Successfully uninstalled openai-1.3.7\n",
      "Successfully installed openai-1.66.3\n"
     ]
    }
   ],
   "source": [
    "!pip install --upgrade openai autogen"
   ]
  },
  {
   "cell_type": "code",
   "execution_count": 6,
   "id": "cafd8a93-e995-46d5-8b55-51c1cc530300",
   "metadata": {},
   "outputs": [],
   "source": [
    "import autogen\n",
    "import yfinance as yf\n",
    "import matplotlib.pyplot as plt"
   ]
  },
  {
   "cell_type": "code",
   "execution_count": 7,
   "id": "0cda7433-8bc7-4ad4-957b-cdc278411ac0",
   "metadata": {},
   "outputs": [],
   "source": [
    "# Define the agent\n",
    "class StockAgent:\n",
    "    def __init__(self):\n",
    "        self.agent = autogen.AssistantAgent(\"Stock Assistant\")\n",
    "    \n",
    "    def fetch_stock_data(self, ticker):\n",
    "        try:\n",
    "            stock = yf.Ticker(ticker)\n",
    "            hist = stock.history(period=\"1mo\")\n",
    "            if hist.empty:\n",
    "                print(\"No data found for the given ticker.\")\n",
    "                return None\n",
    "            return hist\n",
    "        except Exception as e:\n",
    "            print(f\"Error fetching stock data: {e}\")\n",
    "            return None\n",
    "    \n",
    "    def plot_stock_data(self, hist, ticker):\n",
    "        if hist is not None:\n",
    "            plt.figure(figsize=(10, 5))\n",
    "            plt.plot(hist.index, hist['Close'], label=f'{ticker} Closing Prices')\n",
    "            plt.xlabel('Date')\n",
    "            plt.ylabel('Price (USD)')\n",
    "            plt.title(f'{ticker} Stock Prices Over Last Month')\n",
    "            plt.legend()\n",
    "            plt.show()\n",
    "    \n",
    "    def process_query(self):\n",
    "        ticker = input(\"Enter stock ticker symbol (e.g., AAPL): \").strip().upper()\n",
    "        print(f\"Fetching data for {ticker}...\")\n",
    "        hist = self.fetch_stock_data(ticker)\n",
    "        self.plot_stock_data(hist, ticker)\n"
   ]
  },
  {
   "cell_type": "code",
   "execution_count": 8,
   "id": "a301f92e-1dca-4e2c-8212-05a3c519fe0d",
   "metadata": {},
   "outputs": [
    {
     "name": "stdin",
     "output_type": "stream",
     "text": [
      "Enter stock ticker symbol (e.g., AAPL):  AAPL\n"
     ]
    },
    {
     "name": "stdout",
     "output_type": "stream",
     "text": [
      "Fetching data for AAPL...\n"
     ]
    },
    {
     "data": {
      "image/png": "[encoded data removed]",
      "text/plain": [
       "<Figure size 1000x500 with 1 Axes>"
      ]
     },
     "metadata": {},
     "output_type": "display_data"
    }
   ],
   "source": [
    "# Example usage\n",
    "if __name__ == \"__main__\":\n",
    "    agent = StockAgent()\n",
    "    agent.process_query()"
   ]
  },
  {
   "cell_type": "code",
   "execution_count": null,
   "id": "982f76de-b1e5-404f-9635-e04b16b6387c",
   "metadata": {},
   "outputs": [],
   "source": []
  },
  {
   "cell_type": "code",
   "execution_count": null,
   "id": "1f5c54ae-498b-4b1f-93f1-c28e2ecc2554",
   "metadata": {},
   "outputs": [],
   "source": []
  },
  {
   "cell_type": "code",
   "execution_count": null,
   "id": "f4b24235-8e47-42d3-b526-5e1db60afca2",
   "metadata": {},
   "outputs": [],
   "source": []
  }
 ],
 "metadata": {
  "kernelspec": {
   "display_name": "Python 3 (ipykernel)",
   "language": "python",
   "name": "python3"
  },
  "language_info": {
   "codemirror_mode": {
    "name": "ipython",
    "version": 3
   },
   "file_extension": ".py",
   "mimetype": "text/x-python",
   "name": "python",
   "nbconvert_exporter": "python",
   "pygments_lexer": "ipython3",
   "version": "3.12.4"
  }
 },
 "nbformat": 4,
 "nbformat_minor": 5
}
